{
 "cells": [
  {
   "cell_type": "markdown",
   "id": "fd3914ef",
   "metadata": {},
   "source": [
    "# Learn Multiplication"
   ]
  },
  {
   "cell_type": "markdown",
   "id": "5296a6e6",
   "metadata": {},
   "source": [
    "Goals for this program:\n",
    "* Display multiplication facts for the student to memorize\n",
    "* Repeat multiplication facts, one at a time, to test the student's memory\n",
    "* Either display multiple choice answers or accept numeric input from the student\n",
    "* Let the student know whether they got a particular answer correct or not\n",
    "* Maintain records of which multiplication facts the student knows and doesn't know\n",
    "  * How many times question was asked\n",
    "  * How many times the student got it right\n",
    "  * Minimum time taken to answer\n",
    "  * Maximum time taken to answer\n",
    "  * Datetime when question last asked\n",
    "* Repeat questions where the student is weakest more often than where they are strong\n",
    "* Maintain records of students progress from session to session\n",
    "* Allow for multiple students (password?)\n",
    "* (Future) Make a simple GUI for this (Tkinter? Flask?)"
   ]
  },
  {
   "cell_type": "code",
   "execution_count": 4,
   "id": "c5437b3d",
   "metadata": {},
   "outputs": [],
   "source": [
    "import itertools\n",
    "import collections\n",
    "import random"
   ]
  },
  {
   "cell_type": "code",
   "execution_count": 6,
   "id": "42912572",
   "metadata": {},
   "outputs": [],
   "source": [
    "lowest_number = 0\n",
    "highest_number = 10\n",
    "\n",
    "numbers = range(lowest_number, highest_number + 1)\n",
    "\n",
    "number_pairs = list(itertools.product(numbers, numbers))\n",
    "\n",
    "Record = collections.namedtuple('Record', ['asked', 'correct'])\n",
    "\n",
    "def new_records():\n",
    "    return {key: Record(0, 0) for key in number_pairs}\n",
    "\n",
    "def percent_correct(pair, records):\n",
    "    rec = records[pair]\n",
    "    if rec.correct == 0:\n",
    "        return 0\n",
    "    else:\n",
    "        return 100 * (rec.correct / rec.asked)\n",
    "\n",
    "def get_pairs(num, records, shuffle=True):\n",
    "    pairs = [entry for entry in records if (entry[0] == num) | (entry[1] == num)]\n",
    "    if shuffle:\n",
    "        random.shuffle(pairs)\n",
    "    return pairs"
   ]
  },
  {
   "cell_type": "raw",
   "id": "d4b9e8bf",
   "metadata": {},
   "source": [
    "while True:\n",
    "  try:\n",
    "    age = int(input(\"Enter your age: \"))\n",
    "    if age > 0:\n",
    "      break\n",
    "    print(\"Invalid age entered\")\n",
    "  except Exception as e:\n",
    "    print(e)"
   ]
  },
  {
   "cell_type": "raw",
   "id": "73a18c4f",
   "metadata": {},
   "source": [
    "SEE: https://www.mikedane.com/programming-languages/python/building-a-quiz/"
   ]
  },
  {
   "cell_type": "code",
   "execution_count": 17,
   "id": "8c5ecf38",
   "metadata": {},
   "outputs": [],
   "source": [
    "def ask(question, answer):\n",
    "    while True:\n",
    "        try:\n",
    "            ans = input(question)\n",
    "            if ans.isnumeric():\n",
    "                if ans != answer:\n",
    "                    print(f\"Wrong. Try again.\")\n",
    "                break\n",
    "            print(\"Answer must be a number\")\n",
    "        except ValueError:\n",
    "            print(\"An error occurred.\")\n",
    "    print(f\"Answer: {ans}\")"
   ]
  },
  {
   "cell_type": "code",
   "execution_count": 18,
   "id": "a1ebadcd",
   "metadata": {},
   "outputs": [
    {
     "name": "stdout",
     "output_type": "stream",
     "text": [
      "1 + 2 = 3\n",
      "Answer: 3\n"
     ]
    }
   ],
   "source": [
    "ask(\"1 + 2 = \", \"3\")"
   ]
  },
  {
   "cell_type": "code",
   "execution_count": 20,
   "id": "d8877a21",
   "metadata": {},
   "outputs": [
    {
     "name": "stdout",
     "output_type": "stream",
     "text": [
      "1 + 2 = A\n",
      "Answer must be a number\n",
      "1 + 2 = 3\n",
      "Answer: 3\n"
     ]
    }
   ],
   "source": [
    "ask(\"1 + 2 = \", \"3\")"
   ]
  },
  {
   "cell_type": "code",
   "execution_count": null,
   "id": "670fc7bd",
   "metadata": {},
   "outputs": [],
   "source": [
    "recs0 = new_records()"
   ]
  },
  {
   "cell_type": "code",
   "execution_count": null,
   "id": "b2db8f6a",
   "metadata": {},
   "outputs": [],
   "source": [
    "percent_correct((1,3), recs0)"
   ]
  },
  {
   "cell_type": "code",
   "execution_count": null,
   "id": "bbc38f38",
   "metadata": {},
   "outputs": [],
   "source": [
    "print(get_pairs(7, recs0, False))"
   ]
  },
  {
   "cell_type": "code",
   "execution_count": null,
   "id": "7cb89650",
   "metadata": {},
   "outputs": [],
   "source": [
    "print(get_pairs(7, recs0))"
   ]
  },
  {
   "cell_type": "code",
   "execution_count": null,
   "id": "11267b67",
   "metadata": {},
   "outputs": [],
   "source": [
    "for pair in get_pairs(7, recs0):\n",
    "    print(pair)"
   ]
  },
  {
   "cell_type": "code",
   "execution_count": null,
   "id": "6a5e7e64",
   "metadata": {},
   "outputs": [],
   "source": []
  }
 ],
 "metadata": {
  "kernelspec": {
   "display_name": "Python 3",
   "language": "python",
   "name": "python3"
  },
  "language_info": {
   "codemirror_mode": {
    "name": "ipython",
    "version": 3
   },
   "file_extension": ".py",
   "mimetype": "text/x-python",
   "name": "python",
   "nbconvert_exporter": "python",
   "pygments_lexer": "ipython3",
   "version": "3.7.7"
  }
 },
 "nbformat": 4,
 "nbformat_minor": 5
}
